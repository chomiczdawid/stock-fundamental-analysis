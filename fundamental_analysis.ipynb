{
 "cells": [
  {
   "cell_type": "code",
   "execution_count": 1,
   "id": "0cdf05eb-7833-48ef-ba62-38bd2922b20c",
   "metadata": {
    "tags": []
   },
   "outputs": [],
   "source": [
    "import pandas as pd\n",
    "import numpy as np\n",
    "import matplotlib.pyplot as plt\n",
    "import yfinance as yf\n",
    "\n",
    "from datetime import date, timedelta"
   ]
  },
  {
   "cell_type": "markdown",
   "id": "16566666-f2bf-4358-a0ee-c15bbbe63676",
   "metadata": {},
   "source": [
    "ToDo:\n",
    "* przerzucić tutaj cały proces przeliczeń i wykresów z wycen excelowych\n",
    "* 2 warianty:\n",
    "    * zrobić dashboard, czyli wykresy w plotly i hostowanie jak w przypadku overview\n",
    "    * zrzucać raporty do excela przez xlsx writera, wtedy wykresy raczej statyczne (chociaż może nie koniecznie)\n",
    "* opcja 2 chyba byłaby bardziej dostosowana do cyklicznego raportowania, ale z drugiej strony, te raporty mają charakter inkrementalny, w sensie, co kwartał dane są takie same + kwartał, wiec bardziej to pasuje do monitorowania dashboardowego\n",
    "* w dashboardzie możnaby zrobić taki fajny jednostronowy kompaktowy widok ze wszystkimi wykresikami i tabelkami upakowanymi w jedną stronę 16:9, żeby "
   ]
  },
  {
   "cell_type": "code",
   "execution_count": 2,
   "id": "80182e53-892d-46b5-8210-9b89c1861a23",
   "metadata": {
    "tags": []
   },
   "outputs": [],
   "source": [
    "ticker_br = 'AMBRA'\n",
    "ticker_yf = 'AMB.WA'"
   ]
  },
  {
   "cell_type": "markdown",
   "id": "7a3df297-3c9a-42da-97b4-f678d8fdfb38",
   "metadata": {},
   "source": [
    "## Data scrapping and transformation"
   ]
  },
  {
   "cell_type": "code",
   "execution_count": 3,
   "id": "86520fb7-9a94-4d40-a248-bb0738d15178",
   "metadata": {
    "tags": []
   },
   "outputs": [],
   "source": [
    "def get_current_price(symbol):\n",
    "    ticker = yf.Ticker(symbol)\n",
    "    todays_data = ticker.history(period='1d')\n",
    "    return todays_data['Close'][0]"
   ]
  },
  {
   "cell_type": "code",
   "execution_count": 4,
   "id": "560f2a82-d03a-46d4-9082-01c040d078b8",
   "metadata": {
    "tags": []
   },
   "outputs": [],
   "source": [
    "def table_cleaning(df):\n",
    "    df = df.iloc[: , :-1]\n",
    "    df.columns = df.columns.str.split('  ').str[0].str.replace('/', '', regex=True)\n",
    "\n",
    "    for c in range(0, len(df.columns)):\n",
    "        if 'k/k' in df.iloc[1,c]:\n",
    "            df.iloc[:,c] = df.iloc[:,c].str.split('k/k').str[0]\n",
    "        if 'r/r' in df.iloc[1,c]:\n",
    "            df.iloc[:,c] = df.iloc[:,c].str.split('r/r').str[0]\n",
    "        df.iloc[:,c] = df.iloc[:,c].astype(str).apply(lambda x: x.replace(' ', ''))\n",
    "    \n",
    "    df = df.T.reset_index()\n",
    "    df = pd.concat([df, *[df.tail(1)]])\n",
    "    df.iloc[-1, df.columns.get_loc('Data publikacji')] = date.today() - timedelta(days = 1)\n",
    "    df.iloc[-1, df.columns.get_loc('index')] = 'Current'\n",
    "    df['Data publikacji'] = pd.to_datetime(df['Data publikacji'])\n",
    "    \n",
    "    for c in df.columns[2:]:\n",
    "        df[c] = df[c].astype(float)\n",
    "\n",
    "    return df"
   ]
  },
  {
   "cell_type": "code",
   "execution_count": 5,
   "id": "15d8ce07-54d7-485f-83ba-fa56411f6ba8",
   "metadata": {
    "tags": []
   },
   "outputs": [],
   "source": [
    "url_rzis = 'https://www.biznesradar.pl/raporty-finansowe-rachunek-zyskow-i-strat/'+ticker_br+',Q'\n",
    "url_bilans = 'https://www.biznesradar.pl/raporty-finansowe-bilans/'+ticker_br+',Q'\n",
    "url_pp = 'https://www.biznesradar.pl/raporty-finansowe-przeplywy-pieniezne/'+ticker_br+',Q'\n",
    "url_c = 'https://www.biznesradar.pl/wskazniki-wartosci-rynkowej/'+ticker_br+''"
   ]
  },
  {
   "cell_type": "code",
   "execution_count": 6,
   "id": "6ff61467-3f43-432c-a551-bcbb7e9d2647",
   "metadata": {
    "tags": []
   },
   "outputs": [],
   "source": [
    "df_r_raw = pd.read_html(url_rzis, match='Data publikacji', index_col=0)[0]\n",
    "df_b_raw = pd.read_html(url_bilans, match='Data publikacji', index_col=0)[0]\n",
    "df_p_raw = pd.read_html(url_pp, match='Data publikacji', index_col=0)[0]"
   ]
  },
  {
   "cell_type": "code",
   "execution_count": 7,
   "id": "ca7a6062-3855-4ba2-aa81-28f1643b953d",
   "metadata": {
    "tags": []
   },
   "outputs": [],
   "source": [
    "df_r = table_cleaning(df_r_raw)\n",
    "df_b = table_cleaning(df_b_raw)\n",
    "df_p = table_cleaning(df_p_raw)"
   ]
  },
  {
   "cell_type": "code",
   "execution_count": 8,
   "id": "db4d2a21-57e8-4ef5-8930-bef9c434484b",
   "metadata": {
    "tags": []
   },
   "outputs": [
    {
     "name": "stderr",
     "output_type": "stream",
     "text": [
      "[*********************100%%**********************]  1 of 1 completed\n"
     ]
    }
   ],
   "source": [
    "prices = yf.download(ticker_yf, df_r['Data publikacji'].min(), date.today())['Close'].reset_index()\n",
    "prices.columns = ['Data publikacji', 'Cena']"
   ]
  },
  {
   "cell_type": "code",
   "execution_count": 9,
   "id": "27125033-fc17-4e9d-98ee-491be89ffa87",
   "metadata": {
    "tags": []
   },
   "outputs": [],
   "source": [
    "df = df_r.merge(\n",
    "    df_b, how='outer', left_on='Data publikacji', right_on='Data publikacji').merge(\n",
    "        df_p, how='outer', left_on='Data publikacji', right_on='Data publikacji')\n",
    "df = df.drop(columns=['index_y', 'index_x'])"
   ]
  },
  {
   "cell_type": "code",
   "execution_count": 10,
   "id": "5c87b097-276a-495b-b646-b7525c18a8d4",
   "metadata": {
    "tags": []
   },
   "outputs": [],
   "source": [
    "df_c_raw = pd.read_html(url_c, match='Kurs', index_col=0)[0]\n",
    "\n",
    "df_c = df_c_raw.iloc[: , :-1]\n",
    "df_c.columns = df_c.columns.str.split('  ').str[0].str.replace('/', '', regex=True)\n",
    "df_c = df_c.T\n",
    "df_c = df_c['Liczba akcji'].reset_index()\n",
    "df_c['Liczba akcji'] = df_c['Liczba akcji'].str.replace(' ', '', regex=True).astype(float)"
   ]
  },
  {
   "cell_type": "code",
   "execution_count": 11,
   "id": "ae7ee318-01cd-444c-b093-8a55c928eab5",
   "metadata": {
    "tags": []
   },
   "outputs": [],
   "source": [
    "df = df.merge(df_c, how='left', left_on='index', right_on='index')\n",
    "df['Liczba akcji'] = df['Liczba akcji'].fillna(df['Liczba akcji'].mean())"
   ]
  },
  {
   "cell_type": "code",
   "execution_count": 12,
   "id": "f014f2b3-9b0a-455f-b05b-9ea0064bfc80",
   "metadata": {
    "tags": []
   },
   "outputs": [],
   "source": [
    "df = df.merge(prices, how='left', left_on='Data publikacji', right_on='Data publikacji')"
   ]
  },
  {
   "cell_type": "code",
   "execution_count": 13,
   "id": "de6553a9-5b97-482f-8d16-b9fc73124208",
   "metadata": {
    "tags": []
   },
   "outputs": [
    {
     "data": {
      "text/plain": [
       "Index(['Data publikacji', 'Przychody ze sprzedaży',\n",
       "       'Techniczny koszt wytworzenia produkcji sprzedanej', 'Koszty sprzedaży',\n",
       "       'Koszty ogólnego zarządu', 'Zysk ze sprzedaży',\n",
       "       'Pozostałe przychody operacyjne', 'Pozostałe koszty operacyjne',\n",
       "       'Zysk operacyjny (EBIT)', 'Przychody finansowe', 'Koszty finansowe',\n",
       "       'Pozostałe przychody (koszty)', 'Zysk z działalności gospodarczej',\n",
       "       'Wynik zdarzeń nadzwyczajnych', 'Zysk przed opodatkowaniem',\n",
       "       'Zysk (strata) netto z działalności zaniechanej', 'Zysk netto',\n",
       "       'Zysk netto akcjonariuszy jednostki dominującej', 'EBITDA',\n",
       "       'Aktywa trwałe', 'Wartości niematerialne i prawne', 'Wartość firmy',\n",
       "       'Rzeczowe składniki majątku trwałego',\n",
       "       'Aktywa z tytułu prawa do użytkowania', 'Należności długoterminowe',\n",
       "       'Inwestycje długoterminowe', 'Pozostałe aktywa trwałe',\n",
       "       'Aktywa obrotowe', 'Zapasy', 'Należności krótkoterminowe',\n",
       "       'Inwestycje krótkoterminowe',\n",
       "       'Środki pieniężne i inne aktywa pieniężne', 'Pozostałe aktywa obrotowe',\n",
       "       'Aktywa trwałe przeznaczone do sprzedaży', 'Aktywa razem',\n",
       "       'Kapitał własny akcjonariuszy jednostki dominującej',\n",
       "       'Kapitał (fundusz) podstawowy', 'Udziały (akcje) własne',\n",
       "       'Kapitał (fundusz) zapasowy', 'Udziały niekontrolujące',\n",
       "       'Zobowiązania długoterminowe', 'Z tytułu dostaw i usług',\n",
       "       'Kredyty i pożyczki', 'Z tytułu emisji dłużnych papierów wartościowych',\n",
       "       'Zobowiązania z tytułu leasingu finansowego',\n",
       "       'Inne zobowiązania długoterminowe', 'Zobowiązania krótkoterminowe',\n",
       "       'Z tytułu dostaw i usług', 'Kredyty i pożyczki',\n",
       "       'Z tytułu emisji dłużnych papierów wartościowych',\n",
       "       'Zobowiązania z tytułu leasingu finansowego',\n",
       "       'Inne zobowiązania krótkoterminowe', 'Rozliczenia międzyokresowe',\n",
       "       'Pasywa razem', 'index',\n",
       "       'Przepływy pieniężne z działalności operacyjnej', 'Amortyzacja',\n",
       "       'Przepływy pieniężne z działalności inwestycyjnej',\n",
       "       'CAPEX (niematerialne i rzeczowe)',\n",
       "       'Przepływy pieniężne z działalności finansowej', 'Emisja akcji',\n",
       "       'Dywidenda', 'Skup akcji', 'Płatności z tytułu umów leasingu',\n",
       "       'Przepływy pieniężne razem', 'Free Cash Flow', 'Liczba akcji', 'Cena'],\n",
       "      dtype='object')"
      ]
     },
     "execution_count": 13,
     "metadata": {},
     "output_type": "execute_result"
    }
   ],
   "source": [
    "df.columns"
   ]
  },
  {
   "cell_type": "markdown",
   "id": "ff452ea6-cecc-44c5-9312-af6ddd55fa69",
   "metadata": {},
   "source": [
    "## Statistics"
   ]
  },
  {
   "cell_type": "code",
   "execution_count": 14,
   "id": "982567e6-056e-4c3f-8558-30650c2ed57b",
   "metadata": {},
   "outputs": [],
   "source": [
    "# Statystyki\n",
    "stats = pd.DataFrame()\n",
    "stats['index'] = df['index']\n",
    "stats['Cena'] = df['Cena']\n",
    "# Rynkowe\n",
    "stats['Przychód na akcję'] = (df['Przychody ze sprzedaży'] * 1000) / df['Liczba akcji']\n",
    "stats['Zysk netto na akcję (EPS)'] = (df['Zysk netto'] * 1000) / df['Liczba akcji']\n",
    "stats['Wartość księgowa na akcję'] = (df['Kapitał własny akcjonariuszy jednostki dominującej'] * 1000) / df['Liczba akcji']\n",
    "stats['Zobowiązania na akcję'] = ((df['Zobowiązania długoterminowe'] + df['Zobowiązania krótkoterminowe']) * 1000) / df['Liczba akcji']\n",
    "stats['C/Z'] = stats['Cena'] / stats['Zysk netto na akcję (EPS)']\n",
    "stats['C/WK'] = stats['Cena'] / stats['Wartość księgowa na akcję']\n",
    "# Dywidend - dodać\n",
    "\n",
    "# Przepływów\n",
    "stats['Przepływy finansowe na akcję'] = (df['Przepływy pieniężne z działalności finansowej'] * 1000) / df['Liczba akcji']\n",
    "stats['Przepływy inwestycyjne na akcję'] = (df['Przepływy pieniężne z działalności inwestycyjnej'] * 1000) / df['Liczba akcji']\n",
    "stats['Przepływy operacyjne na akcję'] = (df['Przepływy pieniężne z działalności operacyjnej'] * 1000) / df['Liczba akcji']\n",
    "# Rentowności\n",
    "stats['ROE (zwrot z kapitału)'] = df['Zysk netto'] / df['Kapitał własny akcjonariuszy jednostki dominującej']\n",
    "stats['ROA (zwrot z całości aktywów)'] = df['Zysk netto'] / df['Aktywa razem']\n",
    "stats['ROS (zwrot ze sprzedaży)'] = df['Zysk netto'] / df['Przychody ze sprzedaży']\n",
    "# Zadłużenia\n",
    "stats['Debt Ratio (zadłużenie ogólne)'] = (df['Zobowiązania długoterminowe'] + df['Zobowiązania krótkoterminowe']) / df['Aktywa razem']\n",
    "# Płynności\n",
    "stats['Current Ratio (płynność bieżąca)'] = df['Aktywa obrotowe'] / df['Zobowiązania krótkoterminowe']\n",
    "stats['Quick Ratio (płynność szybka)'] = (df['Aktywa obrotowe'] - df['Zapasy']) / df['Zobowiązania krótkoterminowe']\n",
    "stats['Cash Ratio (płynność gotówkowa)'] = df['Środki pieniężne i inne aktywa pieniężne'] / df['Zobowiązania krótkoterminowe']"
   ]
  },
  {
   "cell_type": "code",
   "execution_count": 15,
   "id": "fd53e414-e88a-46ea-a0fd-665936e81bbd",
   "metadata": {
    "tags": []
   },
   "outputs": [
    {
     "data": {
      "text/html": [
       "<div>\n",
       "<style scoped>\n",
       "    .dataframe tbody tr th:only-of-type {\n",
       "        vertical-align: middle;\n",
       "    }\n",
       "\n",
       "    .dataframe tbody tr th {\n",
       "        vertical-align: top;\n",
       "    }\n",
       "\n",
       "    .dataframe thead th {\n",
       "        text-align: right;\n",
       "    }\n",
       "</style>\n",
       "<table border=\"1\" class=\"dataframe\">\n",
       "  <thead>\n",
       "    <tr style=\"text-align: right;\">\n",
       "      <th></th>\n",
       "      <th>index</th>\n",
       "      <th>Cena</th>\n",
       "      <th>Przychód na akcję</th>\n",
       "      <th>Zysk netto na akcję (EPS)</th>\n",
       "      <th>Wartość księgowa na akcję</th>\n",
       "      <th>Zobowiązania na akcję</th>\n",
       "      <th>C/Z</th>\n",
       "      <th>C/WK</th>\n",
       "      <th>Przepływy finansowe na akcję</th>\n",
       "      <th>Przepływy inwestycyjne na akcję</th>\n",
       "      <th>Przepływy operacyjne na akcję</th>\n",
       "      <th>ROE (zwrot z kapitału)</th>\n",
       "      <th>ROA (zwrot z całości aktywów)</th>\n",
       "      <th>ROS (zwrot ze sprzedaży)</th>\n",
       "      <th>Debt Ratio (zadłużenie ogólne)</th>\n",
       "      <th>Current Ratio (płynność bieżąca)</th>\n",
       "      <th>Quick Ratio (płynność szybka)</th>\n",
       "      <th>Cash Ratio (płynność gotówkowa)</th>\n",
       "    </tr>\n",
       "  </thead>\n",
       "  <tbody>\n",
       "    <tr>\n",
       "      <th>0</th>\n",
       "      <td>2005Q1</td>\n",
       "      <td>10.100000</td>\n",
       "      <td>2.422258</td>\n",
       "      <td>0.055343</td>\n",
       "      <td>5.962436</td>\n",
       "      <td>6.628332</td>\n",
       "      <td>182.499723</td>\n",
       "      <td>1.693939</td>\n",
       "      <td>2.791367</td>\n",
       "      <td>-0.099537</td>\n",
       "      <td>-0.413066</td>\n",
       "      <td>0.009282</td>\n",
       "      <td>0.004225</td>\n",
       "      <td>0.022848</td>\n",
       "      <td>0.505969</td>\n",
       "      <td>1.822706</td>\n",
       "      <td>1.294442</td>\n",
       "      <td>0.469154</td>\n",
       "    </tr>\n",
       "    <tr>\n",
       "      <th>1</th>\n",
       "      <td>2005Q2</td>\n",
       "      <td>12.800000</td>\n",
       "      <td>5.934348</td>\n",
       "      <td>0.961056</td>\n",
       "      <td>6.562992</td>\n",
       "      <td>11.484829</td>\n",
       "      <td>13.318681</td>\n",
       "      <td>1.950330</td>\n",
       "      <td>0.587861</td>\n",
       "      <td>-0.675100</td>\n",
       "      <td>-0.446628</td>\n",
       "      <td>0.146436</td>\n",
       "      <td>0.050096</td>\n",
       "      <td>0.161948</td>\n",
       "      <td>0.598655</td>\n",
       "      <td>1.583624</td>\n",
       "      <td>1.253562</td>\n",
       "      <td>0.217550</td>\n",
       "    </tr>\n",
       "    <tr>\n",
       "      <th>2</th>\n",
       "      <td>2005Q3</td>\n",
       "      <td>15.200000</td>\n",
       "      <td>2.127971</td>\n",
       "      <td>-0.149484</td>\n",
       "      <td>6.471429</td>\n",
       "      <td>6.946105</td>\n",
       "      <td>-101.682851</td>\n",
       "      <td>2.348786</td>\n",
       "      <td>-1.340718</td>\n",
       "      <td>-0.003332</td>\n",
       "      <td>1.129067</td>\n",
       "      <td>-0.023099</td>\n",
       "      <td>-0.010266</td>\n",
       "      <td>-0.070247</td>\n",
       "      <td>0.477052</td>\n",
       "      <td>2.109946</td>\n",
       "      <td>1.329554</td>\n",
       "      <td>0.384066</td>\n",
       "    </tr>\n",
       "    <tr>\n",
       "      <th>3</th>\n",
       "      <td>2005Q4</td>\n",
       "      <td>14.000000</td>\n",
       "      <td>3.027614</td>\n",
       "      <td>0.164877</td>\n",
       "      <td>6.633608</td>\n",
       "      <td>8.057836</td>\n",
       "      <td>84.911698</td>\n",
       "      <td>2.110465</td>\n",
       "      <td>0.296628</td>\n",
       "      <td>-0.095887</td>\n",
       "      <td>-0.022335</td>\n",
       "      <td>0.024855</td>\n",
       "      <td>0.010216</td>\n",
       "      <td>0.054458</td>\n",
       "      <td>0.499287</td>\n",
       "      <td>1.657227</td>\n",
       "      <td>1.071345</td>\n",
       "      <td>0.309461</td>\n",
       "    </tr>\n",
       "    <tr>\n",
       "      <th>4</th>\n",
       "      <td>2006Q1</td>\n",
       "      <td>15.020000</td>\n",
       "      <td>2.435033</td>\n",
       "      <td>-0.145081</td>\n",
       "      <td>6.495470</td>\n",
       "      <td>8.769712</td>\n",
       "      <td>-103.528522</td>\n",
       "      <td>2.312381</td>\n",
       "      <td>0.534026</td>\n",
       "      <td>-0.479556</td>\n",
       "      <td>-0.385454</td>\n",
       "      <td>-0.022336</td>\n",
       "      <td>-0.008785</td>\n",
       "      <td>-0.059581</td>\n",
       "      <td>0.531046</td>\n",
       "      <td>1.351108</td>\n",
       "      <td>0.786377</td>\n",
       "      <td>0.222233</td>\n",
       "    </tr>\n",
       "    <tr>\n",
       "      <th>...</th>\n",
       "      <td>...</td>\n",
       "      <td>...</td>\n",
       "      <td>...</td>\n",
       "      <td>...</td>\n",
       "      <td>...</td>\n",
       "      <td>...</td>\n",
       "      <td>...</td>\n",
       "      <td>...</td>\n",
       "      <td>...</td>\n",
       "      <td>...</td>\n",
       "      <td>...</td>\n",
       "      <td>...</td>\n",
       "      <td>...</td>\n",
       "      <td>...</td>\n",
       "      <td>...</td>\n",
       "      <td>...</td>\n",
       "      <td>...</td>\n",
       "      <td>...</td>\n",
       "    </tr>\n",
       "    <tr>\n",
       "      <th>70</th>\n",
       "      <td>2022Q3</td>\n",
       "      <td>25.000000</td>\n",
       "      <td>6.300799</td>\n",
       "      <td>0.152023</td>\n",
       "      <td>15.269268</td>\n",
       "      <td>10.850393</td>\n",
       "      <td>164.448356</td>\n",
       "      <td>1.637276</td>\n",
       "      <td>-2.184384</td>\n",
       "      <td>-0.216887</td>\n",
       "      <td>2.384173</td>\n",
       "      <td>0.009956</td>\n",
       "      <td>0.005253</td>\n",
       "      <td>0.024128</td>\n",
       "      <td>0.374917</td>\n",
       "      <td>1.903259</td>\n",
       "      <td>0.843202</td>\n",
       "      <td>0.121997</td>\n",
       "    </tr>\n",
       "    <tr>\n",
       "      <th>71</th>\n",
       "      <td>2022Q4</td>\n",
       "      <td>29.400000</td>\n",
       "      <td>7.613033</td>\n",
       "      <td>0.467020</td>\n",
       "      <td>15.500397</td>\n",
       "      <td>12.315682</td>\n",
       "      <td>62.952372</td>\n",
       "      <td>1.896726</td>\n",
       "      <td>-0.102632</td>\n",
       "      <td>-0.335467</td>\n",
       "      <td>0.385454</td>\n",
       "      <td>0.030130</td>\n",
       "      <td>0.015248</td>\n",
       "      <td>0.061345</td>\n",
       "      <td>0.402100</td>\n",
       "      <td>1.802205</td>\n",
       "      <td>0.758444</td>\n",
       "      <td>0.099374</td>\n",
       "    </tr>\n",
       "    <tr>\n",
       "      <th>72</th>\n",
       "      <td>2023Q1</td>\n",
       "      <td>29.700001</td>\n",
       "      <td>7.865069</td>\n",
       "      <td>0.548387</td>\n",
       "      <td>15.980906</td>\n",
       "      <td>13.779581</td>\n",
       "      <td>54.158818</td>\n",
       "      <td>1.858468</td>\n",
       "      <td>1.227097</td>\n",
       "      <td>-0.667403</td>\n",
       "      <td>-0.267866</td>\n",
       "      <td>0.034315</td>\n",
       "      <td>0.016715</td>\n",
       "      <td>0.069724</td>\n",
       "      <td>0.419998</td>\n",
       "      <td>1.721318</td>\n",
       "      <td>0.725887</td>\n",
       "      <td>0.116545</td>\n",
       "    </tr>\n",
       "    <tr>\n",
       "      <th>73</th>\n",
       "      <td>2023Q2</td>\n",
       "      <td>31.500000</td>\n",
       "      <td>13.756175</td>\n",
       "      <td>1.678129</td>\n",
       "      <td>15.937703</td>\n",
       "      <td>18.339847</td>\n",
       "      <td>18.770905</td>\n",
       "      <td>1.976445</td>\n",
       "      <td>-0.362285</td>\n",
       "      <td>-0.344512</td>\n",
       "      <td>0.456665</td>\n",
       "      <td>0.105293</td>\n",
       "      <td>0.044960</td>\n",
       "      <td>0.121991</td>\n",
       "      <td>0.491356</td>\n",
       "      <td>1.529523</td>\n",
       "      <td>0.907096</td>\n",
       "      <td>0.067762</td>\n",
       "    </tr>\n",
       "    <tr>\n",
       "      <th>74</th>\n",
       "      <td>Current</td>\n",
       "      <td>29.700001</td>\n",
       "      <td>13.756175</td>\n",
       "      <td>1.678129</td>\n",
       "      <td>15.937703</td>\n",
       "      <td>18.339847</td>\n",
       "      <td>17.698282</td>\n",
       "      <td>1.863506</td>\n",
       "      <td>-0.362285</td>\n",
       "      <td>-0.344512</td>\n",
       "      <td>0.456665</td>\n",
       "      <td>0.105293</td>\n",
       "      <td>0.044960</td>\n",
       "      <td>0.121991</td>\n",
       "      <td>0.491356</td>\n",
       "      <td>1.529523</td>\n",
       "      <td>0.907096</td>\n",
       "      <td>0.067762</td>\n",
       "    </tr>\n",
       "  </tbody>\n",
       "</table>\n",
       "<p>75 rows × 18 columns</p>\n",
       "</div>"
      ],
      "text/plain": [
       "      index       Cena  Przychód na akcję  Zysk netto na akcję (EPS)  \\\n",
       "0    2005Q1  10.100000           2.422258                   0.055343   \n",
       "1    2005Q2  12.800000           5.934348                   0.961056   \n",
       "2    2005Q3  15.200000           2.127971                  -0.149484   \n",
       "3    2005Q4  14.000000           3.027614                   0.164877   \n",
       "4    2006Q1  15.020000           2.435033                  -0.145081   \n",
       "..      ...        ...                ...                        ...   \n",
       "70   2022Q3  25.000000           6.300799                   0.152023   \n",
       "71   2022Q4  29.400000           7.613033                   0.467020   \n",
       "72   2023Q1  29.700001           7.865069                   0.548387   \n",
       "73   2023Q2  31.500000          13.756175                   1.678129   \n",
       "74  Current  29.700001          13.756175                   1.678129   \n",
       "\n",
       "    Wartość księgowa na akcję  Zobowiązania na akcję         C/Z      C/WK  \\\n",
       "0                    5.962436               6.628332  182.499723  1.693939   \n",
       "1                    6.562992              11.484829   13.318681  1.950330   \n",
       "2                    6.471429               6.946105 -101.682851  2.348786   \n",
       "3                    6.633608               8.057836   84.911698  2.110465   \n",
       "4                    6.495470               8.769712 -103.528522  2.312381   \n",
       "..                        ...                    ...         ...       ...   \n",
       "70                  15.269268              10.850393  164.448356  1.637276   \n",
       "71                  15.500397              12.315682   62.952372  1.896726   \n",
       "72                  15.980906              13.779581   54.158818  1.858468   \n",
       "73                  15.937703              18.339847   18.770905  1.976445   \n",
       "74                  15.937703              18.339847   17.698282  1.863506   \n",
       "\n",
       "    Przepływy finansowe na akcję  Przepływy inwestycyjne na akcję  \\\n",
       "0                       2.791367                        -0.099537   \n",
       "1                       0.587861                        -0.675100   \n",
       "2                      -1.340718                        -0.003332   \n",
       "3                       0.296628                        -0.095887   \n",
       "4                       0.534026                        -0.479556   \n",
       "..                           ...                              ...   \n",
       "70                     -2.184384                        -0.216887   \n",
       "71                     -0.102632                        -0.335467   \n",
       "72                      1.227097                        -0.667403   \n",
       "73                     -0.362285                        -0.344512   \n",
       "74                     -0.362285                        -0.344512   \n",
       "\n",
       "    Przepływy operacyjne na akcję  ROE (zwrot z kapitału)  \\\n",
       "0                       -0.413066                0.009282   \n",
       "1                       -0.446628                0.146436   \n",
       "2                        1.129067               -0.023099   \n",
       "3                       -0.022335                0.024855   \n",
       "4                       -0.385454               -0.022336   \n",
       "..                            ...                     ...   \n",
       "70                       2.384173                0.009956   \n",
       "71                       0.385454                0.030130   \n",
       "72                      -0.267866                0.034315   \n",
       "73                       0.456665                0.105293   \n",
       "74                       0.456665                0.105293   \n",
       "\n",
       "    ROA (zwrot z całości aktywów)  ROS (zwrot ze sprzedaży)  \\\n",
       "0                        0.004225                  0.022848   \n",
       "1                        0.050096                  0.161948   \n",
       "2                       -0.010266                 -0.070247   \n",
       "3                        0.010216                  0.054458   \n",
       "4                       -0.008785                 -0.059581   \n",
       "..                            ...                       ...   \n",
       "70                       0.005253                  0.024128   \n",
       "71                       0.015248                  0.061345   \n",
       "72                       0.016715                  0.069724   \n",
       "73                       0.044960                  0.121991   \n",
       "74                       0.044960                  0.121991   \n",
       "\n",
       "    Debt Ratio (zadłużenie ogólne)  Current Ratio (płynność bieżąca)  \\\n",
       "0                         0.505969                          1.822706   \n",
       "1                         0.598655                          1.583624   \n",
       "2                         0.477052                          2.109946   \n",
       "3                         0.499287                          1.657227   \n",
       "4                         0.531046                          1.351108   \n",
       "..                             ...                               ...   \n",
       "70                        0.374917                          1.903259   \n",
       "71                        0.402100                          1.802205   \n",
       "72                        0.419998                          1.721318   \n",
       "73                        0.491356                          1.529523   \n",
       "74                        0.491356                          1.529523   \n",
       "\n",
       "    Quick Ratio (płynność szybka)  Cash Ratio (płynność gotówkowa)  \n",
       "0                        1.294442                         0.469154  \n",
       "1                        1.253562                         0.217550  \n",
       "2                        1.329554                         0.384066  \n",
       "3                        1.071345                         0.309461  \n",
       "4                        0.786377                         0.222233  \n",
       "..                            ...                              ...  \n",
       "70                       0.843202                         0.121997  \n",
       "71                       0.758444                         0.099374  \n",
       "72                       0.725887                         0.116545  \n",
       "73                       0.907096                         0.067762  \n",
       "74                       0.907096                         0.067762  \n",
       "\n",
       "[75 rows x 18 columns]"
      ]
     },
     "execution_count": 15,
     "metadata": {},
     "output_type": "execute_result"
    }
   ],
   "source": [
    "stats"
   ]
  },
  {
   "cell_type": "markdown",
   "id": "46d6e96b-63d0-4236-8129-f6ea47d97d1e",
   "metadata": {},
   "source": [
    "## Plots"
   ]
  },
  {
   "cell_type": "code",
   "execution_count": 171,
   "id": "db85df6f-d7fc-44a2-8367-7da077569e8d",
   "metadata": {
    "tags": []
   },
   "outputs": [
    {
     "data": {
      "text/plain": [
       "<Axes: >"
      ]
     },
     "execution_count": 171,
     "metadata": {},
     "output_type": "execute_result"
    },
    {
     "data": {
      "image/png": "[encoded data removed]",
      "text/plain": [
       "<Figure size 640x480 with 1 Axes>"
      ]
     },
     "metadata": {},
     "output_type": "display_data"
    }
   ],
   "source": [
    "df_r['Przychody ze sprzedaży'].plot()"
   ]
  },
  {
   "cell_type": "code",
   "execution_count": 177,
   "id": "662d34e1-09ae-4fc1-bbbd-38244a98b794",
   "metadata": {
    "tags": []
   },
   "outputs": [
    {
     "data": {
      "text/plain": [
       "<Axes: >"
      ]
     },
     "execution_count": 177,
     "metadata": {},
     "output_type": "execute_result"
    },
    {
     "data": {
      "image/png": "[encoded data removed]",
      "text/plain": [
       "<Figure size 640x480 with 1 Axes>"
      ]
     },
     "metadata": {},
     "output_type": "display_data"
    }
   ],
   "source": [
    "stats['C/Z'].plot()"
   ]
  },
  {
   "cell_type": "code",
   "execution_count": 156,
   "id": "4580666c-24b8-44d2-94f3-a6d99fb83080",
   "metadata": {
    "tags": []
   },
   "outputs": [],
   "source": [
    "stats['index'] = stats['index'].str[:4]"
   ]
  },
  {
   "cell_type": "code",
   "execution_count": 158,
   "id": "5174108b-592c-403a-8d56-e21e4ddbc6b0",
   "metadata": {
    "tags": []
   },
   "outputs": [
    {
     "data": {
      "text/html": [
       "<div>\n",
       "<style scoped>\n",
       "    .dataframe tbody tr th:only-of-type {\n",
       "        vertical-align: middle;\n",
       "    }\n",
       "\n",
       "    .dataframe tbody tr th {\n",
       "        vertical-align: top;\n",
       "    }\n",
       "\n",
       "    .dataframe thead th {\n",
       "        text-align: right;\n",
       "    }\n",
       "</style>\n",
       "<table border=\"1\" class=\"dataframe\">\n",
       "  <thead>\n",
       "    <tr style=\"text-align: right;\">\n",
       "      <th></th>\n",
       "      <th>Przychód na akcję</th>\n",
       "      <th>Zysk netto na akcję (EPS)</th>\n",
       "    </tr>\n",
       "    <tr>\n",
       "      <th>index</th>\n",
       "      <th></th>\n",
       "      <th></th>\n",
       "    </tr>\n",
       "  </thead>\n",
       "  <tbody>\n",
       "    <tr>\n",
       "      <th>2005</th>\n",
       "      <td>13.512191</td>\n",
       "      <td>1.031791</td>\n",
       "    </tr>\n",
       "    <tr>\n",
       "      <th>2006</th>\n",
       "      <td>16.192318</td>\n",
       "      <td>1.129861</td>\n",
       "    </tr>\n",
       "    <tr>\n",
       "      <th>2007</th>\n",
       "      <td>17.454128</td>\n",
       "      <td>-0.376607</td>\n",
       "    </tr>\n",
       "    <tr>\n",
       "      <th>2008</th>\n",
       "      <td>17.010237</td>\n",
       "      <td>0.323129</td>\n",
       "    </tr>\n",
       "    <tr>\n",
       "      <th>2009</th>\n",
       "      <td>15.825470</td>\n",
       "      <td>0.839342</td>\n",
       "    </tr>\n",
       "    <tr>\n",
       "      <th>2010</th>\n",
       "      <td>16.254921</td>\n",
       "      <td>0.920829</td>\n",
       "    </tr>\n",
       "    <tr>\n",
       "      <th>2011</th>\n",
       "      <td>17.023964</td>\n",
       "      <td>0.734767</td>\n",
       "    </tr>\n",
       "    <tr>\n",
       "      <th>2012</th>\n",
       "      <td>16.842861</td>\n",
       "      <td>0.942728</td>\n",
       "    </tr>\n",
       "    <tr>\n",
       "      <th>2013</th>\n",
       "      <td>16.590547</td>\n",
       "      <td>1.197264</td>\n",
       "    </tr>\n",
       "    <tr>\n",
       "      <th>2014</th>\n",
       "      <td>15.746364</td>\n",
       "      <td>0.998269</td>\n",
       "    </tr>\n",
       "    <tr>\n",
       "      <th>2015</th>\n",
       "      <td>16.826516</td>\n",
       "      <td>1.003228</td>\n",
       "    </tr>\n",
       "    <tr>\n",
       "      <th>2016</th>\n",
       "      <td>18.268398</td>\n",
       "      <td>1.289303</td>\n",
       "    </tr>\n",
       "    <tr>\n",
       "      <th>2017</th>\n",
       "      <td>19.663863</td>\n",
       "      <td>1.661824</td>\n",
       "    </tr>\n",
       "    <tr>\n",
       "      <th>2018</th>\n",
       "      <td>21.915492</td>\n",
       "      <td>1.665037</td>\n",
       "    </tr>\n",
       "    <tr>\n",
       "      <th>2019</th>\n",
       "      <td>23.441161</td>\n",
       "      <td>1.753308</td>\n",
       "    </tr>\n",
       "    <tr>\n",
       "      <th>2020</th>\n",
       "      <td>26.706014</td>\n",
       "      <td>2.397384</td>\n",
       "    </tr>\n",
       "    <tr>\n",
       "      <th>2021</th>\n",
       "      <td>30.771570</td>\n",
       "      <td>2.630973</td>\n",
       "    </tr>\n",
       "    <tr>\n",
       "      <th>2022</th>\n",
       "      <td>34.745244</td>\n",
       "      <td>3.010635</td>\n",
       "    </tr>\n",
       "    <tr>\n",
       "      <th>2023</th>\n",
       "      <td>21.621244</td>\n",
       "      <td>2.226516</td>\n",
       "    </tr>\n",
       "    <tr>\n",
       "      <th>Curr</th>\n",
       "      <td>13.756175</td>\n",
       "      <td>1.678129</td>\n",
       "    </tr>\n",
       "  </tbody>\n",
       "</table>\n",
       "</div>"
      ],
      "text/plain": [
       "       Przychód na akcję  Zysk netto na akcję (EPS)\n",
       "index                                              \n",
       "2005           13.512191                   1.031791\n",
       "2006           16.192318                   1.129861\n",
       "2007           17.454128                  -0.376607\n",
       "2008           17.010237                   0.323129\n",
       "2009           15.825470                   0.839342\n",
       "2010           16.254921                   0.920829\n",
       "2011           17.023964                   0.734767\n",
       "2012           16.842861                   0.942728\n",
       "2013           16.590547                   1.197264\n",
       "2014           15.746364                   0.998269\n",
       "2015           16.826516                   1.003228\n",
       "2016           18.268398                   1.289303\n",
       "2017           19.663863                   1.661824\n",
       "2018           21.915492                   1.665037\n",
       "2019           23.441161                   1.753308\n",
       "2020           26.706014                   2.397384\n",
       "2021           30.771570                   2.630973\n",
       "2022           34.745244                   3.010635\n",
       "2023           21.621244                   2.226516\n",
       "Curr           13.756175                   1.678129"
      ]
     },
     "execution_count": 158,
     "metadata": {},
     "output_type": "execute_result"
    }
   ],
   "source": [
    "stats.groupby('index').sum()"
   ]
  },
  {
   "cell_type": "code",
   "execution_count": null,
   "id": "f4b006d6-6026-4f71-a5fb-1844cd68bb5d",
   "metadata": {},
   "outputs": [],
   "source": []
  }
 ],
 "metadata": {
  "kernelspec": {
   "display_name": "Python 3 (ipykernel)",
   "language": "python",
   "name": "python3"
  },
  "language_info": {
   "codemirror_mode": {
    "name": "ipython",
    "version": 3
   },
   "file_extension": ".py",
   "mimetype": "text/x-python",
   "name": "python",
   "nbconvert_exporter": "python",
   "pygments_lexer": "ipython3",
   "version": "3.8.16"
  }
 },
 "nbformat": 4,
 "nbformat_minor": 5
}
